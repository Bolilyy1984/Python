{
 "cells": [
  {
   "cell_type": "markdown",
   "metadata": {},
   "source": [
    "### Практическое задание - Линейная алгебра: Урок 1, 2."
   ]
  },
  {
   "cell_type": "markdown",
   "metadata": {},
   "source": [
    "#### Урок 1: Линейное пространство. Часть 1"
   ]
  },
  {
   "cell_type": "markdown",
   "metadata": {},
   "source": [
    "1. Исследовать на линейную зависимость:\n",
    "f1(x)=e^x,f2(x)=1,f3(x)=x+1,f4(x)=x−e^x."
   ]
  },
  {
   "cell_type": "markdown",
   "metadata": {},
   "source": [
    "Можно заметить, что f4(x)=f3(x)-f2(x)-f1(x), т.е. x−e^x = x+1-1-e^x.\n",
    "Таким образом, f4(x) является линейной комбинацией f1(x), f2(x), f3(x), \n",
    "следовательно f1(x)=e^x,f2(x)=1,f3(x)=x+1,f4(x)=x−e^x линейно зависимы."
   ]
  },
  {
   "cell_type": "markdown",
   "metadata": {},
   "source": [
    "2. Исследовать на линейную зависимость:\n",
    "f1(x)=2,f2(x)=x,f3(x)=x^2,f4(x)=(x+1)^2."
   ]
  },
  {
   "cell_type": "markdown",
   "metadata": {},
   "source": [
    "Квадрат суммы (x+1)^2 раскладывается как x^2+2x+1, далее составляем линейную комбинацию:\n",
    "f4(x) =  1 * 3f(x) + 2 * f2(x) + 1/2 * f1(x), т.е. x^2+x+1 = 1*x^2 + 2*x + 1/2*2.\n",
    "Таким образом, f4(x) является линейной комбинацией f1(x), f2(x), f3(x), следовательно - они линейно зависимы."
   ]
  },
  {
   "cell_type": "markdown",
   "metadata": {},
   "source": [
    "3. Найти координаты вектора  x=(2,3,5)∈R3  в базисе  b1=(0,0,10) ,  b2=(2,0,0) ,  b3=(0,1,0) ."
   ]
  },
  {
   "cell_type": "markdown",
   "metadata": {},
   "source": [
    "x = (2,3,5) = a1(0,0,10)+a2(2,0,0)+a3(0,1,0)"
   ]
  },
  {
   "cell_type": "markdown",
   "metadata": {},
   "source": [
    "10*a1 = 5, следовательно a1 = 2;\n",
    "2*a2 = 2, следовательно a2 = 1;\n",
    "a3 = 3.\n",
    "\n",
    "Рассчитав коэффициенты, мы нашли координаты в базисе b1, b2, b3, ими являются 2,1,3. "
   ]
  },
  {
   "cell_type": "markdown",
   "metadata": {},
   "source": [
    "4. Найти координаты вектора  3x2−2x+2∈R3[x] :\n",
    "\n",
    "а) в базисе  1 ,  x ,  x2 ;\n",
    "\n",
    "б) в базисе  x2 ,  x−1 ,  1"
   ]
  },
  {
   "cell_type": "markdown",
   "metadata": {},
   "source": [
    "а) e1 = 1, e2 = x, e3 = x^2;\n",
    "3x2−2x+2 = 2-2x+3x2 = 2e1 - 2e2 + 3e3"
   ]
  },
  {
   "cell_type": "markdown",
   "metadata": {},
   "source": [
    "Координатами вектора 3x2−2x+2∈R3[x] являются (2, -2, 3)"
   ]
  },
  {
   "cell_type": "markdown",
   "metadata": {},
   "source": [
    "б) e1 = x2, e2 = x-1, e3 = 1; 3x2−2x+2 = 3x2-2(x-1)+0 = 3e1 - 2e2 + 0e3"
   ]
  },
  {
   "cell_type": "markdown",
   "metadata": {},
   "source": [
    "Координатами вектора 3x2−2x+2∈R3[x] являются (3, -2, 0)"
   ]
  },
  {
   "cell_type": "markdown",
   "metadata": {},
   "source": [
    "5. Установить, является ли линейным подпространством:\n",
    "\n",
    "а) совокупность всех векторов трехмерного пространства, у которых по крайней мере одна из первых двух координат равна нулю;\n",
    "\n",
    "б) все векторы, являющиеся линейными комбинациями данных векторов  {u1,u2,...,un} ."
   ]
  },
  {
   "cell_type": "markdown",
   "metadata": {},
   "source": [
    "a) x = (0, a, b)\n",
    "y = (c, 0, d)\n",
    "x + y = (c, a, b + d)\n",
    "kx = a(0, a, b) = (0, ka, kb)\n",
    "ky = k(c, 0, d) = (kc, 0, kd)\n",
    "\n",
    "Не выполняется условие u+v ∈ L, полученный вектор (c, a, b + d) не принадлежит совокупности совокупности всех векторов трехмерного пространства, у которых по крайней мере одна из первых двух координат равна нулю. Подпространство не является линейным."
   ]
  },
  {
   "cell_type": "markdown",
   "metadata": {},
   "source": [
    "б) x = a1*u1 + b1*u2+...+z1*un; \n",
    "y = a2*u1 + b2*u2+...+z2*un;\n",
    "x+y = (a1+a2)*u1 + (b1+b2)*u2 +...+(z1+z2)*un;\n",
    "kx = k*a1*u1 + k*b1*u2+...+k*z1*un\n",
    "ky = k*a2*u1 + k*b2*u2+...+k*z2*un"
   ]
  },
  {
   "cell_type": "markdown",
   "metadata": {},
   "source": [
    "Условия u+v ∈ L и a * u ∈ L выполняются, следовательно, подпространство является линейным."
   ]
  },
  {
   "cell_type": "markdown",
   "metadata": {},
   "source": [
    "#### Урок 2: Линейное пространство. Основные понятия. Часть 2"
   ]
  },
  {
   "cell_type": "markdown",
   "metadata": {},
   "source": [
    "1. Найти скалярное произведение векторов  x,y∈R :\n",
    "а)  x=(0,−3,6), y=(−4,7,9); \n",
    "б)  x=(7,−4,0,1), y=(−3,1,11,2)."
   ]
  },
  {
   "cell_type": "code",
   "execution_count": 4,
   "metadata": {},
   "outputs": [],
   "source": [
    "import numpy as np\n",
    "from scipy import linalg"
   ]
  },
  {
   "cell_type": "code",
   "execution_count": 6,
   "metadata": {},
   "outputs": [
    {
     "name": "stdout",
     "output_type": "stream",
     "text": [
      "x=[ 0 -3  6]\n",
      "y=[-4  7  9]\n",
      "Скалярное произведение x и y: 33\n"
     ]
    }
   ],
   "source": [
    "# а)  𝑥 = (0,−3,6), 𝑦 = (−4,7,9)\n",
    "x = np.array([0, -3, 6])\n",
    "y = np.array([-4, 7, 9])\n",
    "\n",
    "print(f'x={x}')\n",
    "print(f'y={y}')\n",
    "print(f'Скалярное произведение x и y: {np.dot(x, y)}')"
   ]
  },
  {
   "cell_type": "code",
   "execution_count": 7,
   "metadata": {},
   "outputs": [
    {
     "name": "stdout",
     "output_type": "stream",
     "text": [
      "x=[ 7 -4  0  1]\n",
      "y=[-3  1 11  2]\n",
      "Скалярное произведение x и y: -23\n"
     ]
    }
   ],
   "source": [
    "# б)  𝑥 = (7,−4,0,1), 𝑦 = (−3,1,11,2)\n",
    "\n",
    "x = np.array([7, -4, 0, 1])\n",
    "y = np.array([-3, 1, 11, 2])\n",
    "\n",
    "print(f'x={x}')\n",
    "print(f'y={y}')\n",
    "print(f'Скалярное произведение x и y: {np.dot(x, y)}')"
   ]
  },
  {
   "cell_type": "markdown",
   "metadata": {},
   "source": [
    "2. Найти нормы векторов  (4,2,4)  и  (12,3,4)  и угол между ними."
   ]
  },
  {
   "cell_type": "code",
   "execution_count": 10,
   "metadata": {},
   "outputs": [
    {
     "name": "stdout",
     "output_type": "stream",
     "text": [
      "a=[4 2 4]\n",
      "b=[12  3  4]\n",
      "норма вектора a: 6.0\n",
      "норма вектора b: 13.0\n",
      "Угол между a и b: 0.46\n"
     ]
    }
   ],
   "source": [
    "a = np.array([4, 2, 4])\n",
    "b = np.array([12, 3, 4])\n",
    "\n",
    "print(f'a={a}')\n",
    "print(f'b={b}')\n",
    "print(f'норма вектора a: {linalg.norm(a, 2)}')\n",
    "print(f'норма вектора b: {linalg.norm(b, 2)}')\n",
    "\n",
    "cos_phi = np.dot(a, b) / linalg.norm(a, 2) / linalg.norm(b, 2)\n",
    "\n",
    "print(f'Угол между a и b: {np.arccos(cos_phi):.2f}')"
   ]
  },
  {
   "cell_type": "markdown",
   "metadata": {},
   "source": [
    "3. Будет ли линейное пространство евклидовым, если за скалярное произведение принять:\n",
    "а) произведение длин векторов;\n",
    "б) утроенное обычное скалярное произведение векторов?"
   ]
  },
  {
   "cell_type": "markdown",
   "metadata": {},
   "source": [
    "4. Какие из нижеперечисленных векторов образуют ортонормированный базис в линейном пространстве $\\mathbb{R}^{3}$:\n",
    "а) (1,0,0),(0,0,1);\n",
    "б) (1/sqrt{2},-1/\\sqrt{2},0),(1/\\sqrt{2},1/\\sqrt{2},0), (0,0,1);\n",
    "в) (1/2, -1/2, 0), (0, 1/2, 1/2), (0,0,1);\n",
    "г) (1,0,0),(0,1,0),(0,0,1)?"
   ]
  },
  {
   "cell_type": "code",
   "execution_count": 11,
   "metadata": {},
   "outputs": [
    {
     "name": "stdout",
     "output_type": "stream",
     "text": [
      "(a,b) = 0\n",
      "(a,a) = 1\n",
      "(b,b) = 1\n"
     ]
    }
   ],
   "source": [
    "# а)\n",
    "\n",
    "a, b, = (1, 0, 0), (0, 0, 1)\n",
    "\n",
    "print(f'(a,b) = {np.round(np.dot(a, b), 4)}')\n",
    "print(f'(a,a) = {np.round(np.dot(a, a), 4)}')\n",
    "print(f'(b,b) = {np.round(np.dot(b, b), )}')"
   ]
  },
  {
   "cell_type": "markdown",
   "metadata": {},
   "source": [
    "Ответ: а) да, образует"
   ]
  },
  {
   "cell_type": "code",
   "execution_count": 12,
   "metadata": {},
   "outputs": [
    {
     "name": "stdout",
     "output_type": "stream",
     "text": [
      "(a,b) = 0.0\n",
      "(a,c) = 0.0\n",
      "(b,c) = 0.0\n",
      "(a,a) = 1.0\n",
      "(b,b) = 1.0\n",
      "(c,c) = 1\n"
     ]
    }
   ],
   "source": [
    "# б)\n",
    "\n",
    "a, b, c = (1/np.sqrt(2), -1/np.sqrt(2), 0), (1/np.sqrt(2), 1/np.sqrt(2), 0), (0, 0, 1)\n",
    "\n",
    "print(f'(a,b) = {np.round(np.dot(a, b), 4)}')\n",
    "print(f'(a,c) = {np.round(np.dot(a, c), 4)}')\n",
    "print(f'(b,c) = {np.round(np.dot(b, c), 4)}')\n",
    "print(f'(a,a) = {np.round(np.dot(a, a), 4)}')\n",
    "print(f'(b,b) = {np.round(np.dot(b, b), 4)}')\n",
    "print(f'(c,c) = {np.round(np.dot(c, c), 4)}')"
   ]
  },
  {
   "cell_type": "markdown",
   "metadata": {},
   "source": [
    "Ответ: б) да, образует"
   ]
  },
  {
   "cell_type": "code",
   "execution_count": 13,
   "metadata": {},
   "outputs": [
    {
     "name": "stdout",
     "output_type": "stream",
     "text": [
      "(a,b) = -0.25\n",
      "(a,c) = 0.0\n",
      "(b,c) = 0.5\n",
      "(a,a) = 0.5\n",
      "(b,b) = 0.5\n",
      "(c,c) = 1\n"
     ]
    }
   ],
   "source": [
    "# в)\n",
    "\n",
    "a, b, c = (1/2, -1/2, 0), (0, 1/2, 1/2), (0, 0, 1)\n",
    "\n",
    "print(f'(a,b) = {np.round(np.dot(a, b), 4)}')\n",
    "print(f'(a,c) = {np.round(np.dot(a, c), 4)}')\n",
    "print(f'(b,c) = {np.round(np.dot(b, c), 4)}')\n",
    "print(f'(a,a) = {np.round(np.dot(a, a), 4)}')\n",
    "print(f'(b,b) = {np.round(np.dot(b, b), 4)}')\n",
    "print(f'(c,c) = {np.round(np.dot(c, c), 4)}')"
   ]
  },
  {
   "cell_type": "markdown",
   "metadata": {},
   "source": [
    "Ответ: в) нет, не образует"
   ]
  },
  {
   "cell_type": "code",
   "execution_count": 15,
   "metadata": {},
   "outputs": [
    {
     "name": "stdout",
     "output_type": "stream",
     "text": [
      "(a,b) = 0\n",
      "(a,c) = 0\n",
      "(b,c) = 0\n",
      "(a,a) = 1\n",
      "(b,b) = 1\n",
      "(c,c) = 1\n"
     ]
    }
   ],
   "source": [
    "# г)\n",
    "\n",
    "a, b, c = (1, 0, 0), (0, 1, 0), (0, 0, 1)\n",
    "\n",
    "print(f'(a,b) = {np.round(np.dot(a, b), 4)}')\n",
    "print(f'(a,c) = {np.round(np.dot(a, c), 4)}')\n",
    "print(f'(b,c) = {np.round(np.dot(b, c), 4)}')\n",
    "print(f'(a,a) = {np.round(np.dot(a, a), 4)}')\n",
    "print(f'(b,b) = {np.round(np.dot(b, b), 4)}')\n",
    "print(f'(c,c) = {np.round(np.dot(c, c), 4)}')"
   ]
  },
  {
   "cell_type": "markdown",
   "metadata": {},
   "source": [
    "Ответ: в) да, образует"
   ]
  }
 ],
 "metadata": {
  "kernelspec": {
   "display_name": "Python 3",
   "language": "python",
   "name": "python3"
  },
  "language_info": {
   "codemirror_mode": {
    "name": "ipython",
    "version": 3
   },
   "file_extension": ".py",
   "mimetype": "text/x-python",
   "name": "python",
   "nbconvert_exporter": "python",
   "pygments_lexer": "ipython3",
   "version": "3.7.3"
  }
 },
 "nbformat": 4,
 "nbformat_minor": 2
}
