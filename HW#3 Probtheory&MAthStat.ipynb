{
 "cells": [
  {
   "cell_type": "markdown",
   "metadata": {},
   "source": [
    "#### Практическое задание: Урок 3. Описательная статистика. Качественные и количественные характеристики популяции. Графическое представление данных"
   ]
  },
  {
   "cell_type": "markdown",
   "metadata": {},
   "source": [
    "\n",
    "##### 1. Даны значения зарплат из выборки выпускников: 100, 80, 75, 77, 89, 33, 45, 25, 65, 17, 30, 24, 57, 55, 70, 75, 65, 84, 90, 150. Посчитать (желательно без использования статистических методов наподобие std, var, mean) среднее арифметическое, среднее квадратичное отклонение, смещенную и несмещенную оценки дисперсий для данной выборки."
   ]
  },
  {
   "cell_type": "code",
   "execution_count": 1,
   "metadata": {},
   "outputs": [],
   "source": [
    "import numpy as np\n",
    "import pandas as pd"
   ]
  },
  {
   "cell_type": "code",
   "execution_count": 2,
   "metadata": {},
   "outputs": [],
   "source": [
    "Salary = np.array([100, 80, 75, 77, 89, 33, 45, 25, 65, 17, 30, 24, 57, 55, 70, 75, 65, 84, 90, 150])"
   ]
  },
  {
   "cell_type": "code",
   "execution_count": 3,
   "metadata": {},
   "outputs": [
    {
     "data": {
      "text/plain": [
       "65.3"
      ]
     },
     "execution_count": 3,
     "metadata": {},
     "output_type": "execute_result"
    }
   ],
   "source": [
    "mean_salary = Salary.sum()/len(Salary)\n",
    "mean_salary"
   ]
  },
  {
   "cell_type": "markdown",
   "metadata": {},
   "source": [
    "##### Cреднее арифметическое выборки выпускников равно 65.3"
   ]
  },
  {
   "cell_type": "markdown",
   "metadata": {},
   "source": [
    "Найдем среднее квадратичное отклонение для выборки (S):"
   ]
  },
  {
   "cell_type": "code",
   "execution_count": 5,
   "metadata": {},
   "outputs": [
    {
     "name": "stdout",
     "output_type": "stream",
     "text": [
      "19002.2\n",
      "950.11\n",
      "30.823854398825596\n"
     ]
    }
   ],
   "source": [
    "A = ((Salary - Salary.mean())**2).sum()\n",
    "print(A)\n",
    "S2 = A / (len(Salary))\n",
    "print(S2)\n",
    "S = np.sqrt(S2)\n",
    "print(S)"
   ]
  },
  {
   "cell_type": "markdown",
   "metadata": {},
   "source": [
    "##### Cреднее квадратичное отклонение для выборки (S) равно 30.823854398825596"
   ]
  },
  {
   "cell_type": "markdown",
   "metadata": {},
   "source": [
    "Смещенная оценка дисперсии равна среднему квадратичному отклонению, возведенному в квадрат:"
   ]
  },
  {
   "cell_type": "code",
   "execution_count": 6,
   "metadata": {},
   "outputs": [
    {
     "data": {
      "text/plain": [
       "950.11"
      ]
     },
     "execution_count": 6,
     "metadata": {},
     "output_type": "execute_result"
    }
   ],
   "source": [
    "Var = S2\n",
    "Var"
   ]
  },
  {
   "cell_type": "markdown",
   "metadata": {},
   "source": [
    "Для нахождения НЕсмещенной оценки дисперсии делим сумму квадратов разностей всех величин со средним значением не на  n , а на  n−1:"
   ]
  },
  {
   "cell_type": "code",
   "execution_count": 7,
   "metadata": {},
   "outputs": [
    {
     "data": {
      "text/plain": [
       "1000.1157894736842"
      ]
     },
     "execution_count": 7,
     "metadata": {},
     "output_type": "execute_result"
    }
   ],
   "source": [
    "Var2 = A / (len(Salary) - 1)\n",
    "Var2"
   ]
  },
  {
   "cell_type": "markdown",
   "metadata": {},
   "source": [
    "##### Смещенная оценка дисперсии равна 950.11, НЕсмещенная - 1000.1157894736842"
   ]
  },
  {
   "cell_type": "markdown",
   "metadata": {},
   "source": [
    "##### 2. В первом ящике находится 8 мячей, из которых 5 - белые. Во втором ящике - 12 мячей, из которых 5 белых. Из первого ящика вытаскивают случайным образом два мяча, из второго - 4. Какова вероятность того, что 3 мяча белые?"
   ]
  },
  {
   "cell_type": "code",
   "execution_count": 9,
   "metadata": {},
   "outputs": [],
   "source": [
    "from math import factorial"
   ]
  },
  {
   "cell_type": "code",
   "execution_count": 12,
   "metadata": {},
   "outputs": [],
   "source": [
    "def combinations(n, k):\n",
    "    return int(factorial(n) / (factorial(k) * factorial(n - k)))"
   ]
  },
  {
   "cell_type": "markdown",
   "metadata": {},
   "source": [
    "Возможные варианты 3 белых мячей из выбранных 6 мячей, вытащенных из 2 ящиков:"
   ]
  },
  {
   "cell_type": "markdown",
   "metadata": {},
   "source": [
    "Вариант №1: 1 ящик - 2 белых, 2 ящик - 1 белый"
   ]
  },
  {
   "cell_type": "code",
   "execution_count": 23,
   "metadata": {},
   "outputs": [
    {
     "name": "stdout",
     "output_type": "stream",
     "text": [
      "0.35714285714285715\n",
      "0.0012626262626262627\n",
      "0.023674242424242424\n"
     ]
    }
   ],
   "source": [
    "P11 = combinations(5, 2)/ combinations(8, 2)\n",
    "print(P11)\n",
    "# для 2 ящика нужно вычислить совместную вероятность 2 событий: 1. вытащили 1 белый 2. вытащили 3 НЕбелых\n",
    "P12 = combinations(5, 1)/combinations(12, 1) * combinations(7, 3)/combinations(12, 3)\n",
    "print(P21)\n",
    "P1 = P11*P12\n",
    "print(P1)"
   ]
  },
  {
   "cell_type": "markdown",
   "metadata": {},
   "source": [
    "Вариант №2: 1 ящик - 0 белых, 2 ящик - 3 белых"
   ]
  },
  {
   "cell_type": "code",
   "execution_count": 27,
   "metadata": {},
   "outputs": [
    {
     "name": "stdout",
     "output_type": "stream",
     "text": [
      "0.10714285714285714\n",
      "0.026515151515151516\n",
      "0.002840909090909091\n"
     ]
    }
   ],
   "source": [
    "P21 = combinations(3, 2)/ combinations(8, 2)\n",
    "print(P21)\n",
    "# для 2 ящика нужно вычислить совместную вероятность 2 событий: 1. вытащили 3 белых 2. вытащили 1 НЕбелый\n",
    "P22 = combinations(5, 3)/combinations(12, 3) * combinations(7, 1)/combinations(12, 1)\n",
    "print(P22)\n",
    "P2 = P21*P22\n",
    "print(P2)"
   ]
  },
  {
   "cell_type": "markdown",
   "metadata": {},
   "source": [
    "Вариант №3: 1 ящик - 1 белый, 2 ящик - 2 белых"
   ]
  },
  {
   "cell_type": "code",
   "execution_count": 29,
   "metadata": {},
   "outputs": [
    {
     "name": "stdout",
     "output_type": "stream",
     "text": [
      "0.10416666666666667\n",
      "0.048209366391184574\n",
      "0.005021808999081727\n"
     ]
    }
   ],
   "source": [
    "# для 1 ящика нужно вычислить совместную вероятность 2 событий: 1. вытащили 1 белый 2. вытащили 1 НЕбелый\n",
    "P31 = combinations(3, 1)/combinations(12, 1) * combinations(5, 1)/combinations(12, 1)\n",
    "print(P31)\n",
    "# для 2 ящика нужно вычислить совместную вероятность 2 событий: 1. вытащили 2 белых 2. вытащили 2 НЕбелых\n",
    "P32 = combinations(5, 2)/combinations(12, 2) * combinations(7, 2)/combinations(12, 2)\n",
    "print(P32)\n",
    "P3 = P31*P32\n",
    "print(P3)"
   ]
  },
  {
   "cell_type": "markdown",
   "metadata": {},
   "source": [
    "Считаем совокупную вероятность 3 вариантов событий:"
   ]
  },
  {
   "cell_type": "code",
   "execution_count": 30,
   "metadata": {},
   "outputs": [
    {
     "data": {
      "text/plain": [
       "0.03153696051423324"
      ]
     },
     "execution_count": 30,
     "metadata": {},
     "output_type": "execute_result"
    }
   ],
   "source": [
    "P = P1+P2+P3\n",
    "P"
   ]
  },
  {
   "cell_type": "markdown",
   "metadata": {},
   "source": [
    "##### Ответ: вероятность того, что 3 мяча белые равна 0.03153696051423324"
   ]
  },
  {
   "cell_type": "markdown",
   "metadata": {},
   "source": [
    "##### 3. На соревновании по биатлону один из трех спортсменов стреляет и попадает в мишень. Вероятность попадания для первого спортсмена равна 0.9, для второго — 0.8, для третьего — 0.6. Найти вероятность того, что выстрел произведен: a). первым спортсменом б). вторым спортсменом в). третьим спортсменом."
   ]
  },
  {
   "cell_type": "markdown",
   "metadata": {},
   "source": [
    "Вероятность выстрела каждого из трех спортсменов равна 1/3.\n",
    "Следовательно, вероятность того, что удачный выстрел произведен:"
   ]
  },
  {
   "cell_type": "code",
   "execution_count": 33,
   "metadata": {},
   "outputs": [
    {
     "name": "stdout",
     "output_type": "stream",
     "text": [
      "вероятность того, что выстрел произведен: a). первым спортсменом равна  0.3\n",
      "вероятность того, что выстрел произведен: б). вторым спортсменом равна  0.26666666666666666\n",
      "вероятность того, что выстрел произведен: в). третьим спортсменом равна  0.19999999999999998\n"
     ]
    }
   ],
   "source": [
    "P1 = 1/3*0.9 + 0*0.8 + 0*0.6\n",
    "P2 = 0*0.9 + 1/3*0.8 + 0*0.6\n",
    "P3 = 0*0.9 + 0*0.8 + 1/3*0.6\n",
    "print('вероятность того, что выстрел произведен: a). первым спортсменом равна ', P1)\n",
    "print('вероятность того, что выстрел произведен: б). вторым спортсменом равна ', P2)\n",
    "print('вероятность того, что выстрел произведен: в). третьим спортсменом равна ', P3)"
   ]
  },
  {
   "cell_type": "markdown",
   "metadata": {},
   "source": [
    "#### 4. В университет на факультеты A и B поступило равное количество студентов, а на факультет C студентов поступило столько же, сколько на A и B вместе. Вероятность того, что студент факультета A сдаст первую сессию, равна 0.8. Для студента факультета B эта вероятность равна 0.7, а для студента факультета C - 0.9. Студент сдал первую сессию. Какова вероятность, что он учится: a). на факультете A б). на факультете B в). на факультете C?"
   ]
  },
  {
   "cell_type": "code",
   "execution_count": 34,
   "metadata": {},
   "outputs": [
    {
     "name": "stdout",
     "output_type": "stream",
     "text": [
      "вероятность того, что сдавший сессию студент учится на  факультете A равна  0.2\n",
      "вероятность того, что сдавший сессию студент учится на  факультете В равна  0.175\n",
      "вероятность того, что сдавший сессию студент учится на  факультете C равна  0.45\n"
     ]
    }
   ],
   "source": [
    "# вероятность того, что сдавший студент с факультета:\n",
    "pfA = 1/4 # факультет А\n",
    "pfB = 1/4 # факультет В\n",
    "pfC = 2/4 # факультет С\n",
    "\n",
    "# следовательно:\n",
    "psfA = 1/4*0.8 + 0*0.7 + 0*0.9\n",
    "psfB = 0*0.8 + 1/4*0.7 + 0*0.9\n",
    "psfC = 0*0.8 + 0*0.7 + 2/4*0.9\n",
    "\n",
    "print('вероятность того, что сдавший сессию студент учится на  факультете A равна ', psfA)\n",
    "print('вероятность того, что сдавший сессию студент учится на  факультете В равна ', psfB)\n",
    "print('вероятность того, что сдавший сессию студент учится на  факультете C равна ', psfC)"
   ]
  },
  {
   "cell_type": "markdown",
   "metadata": {},
   "source": [
    "##### 5. Устройство состоит из трех деталей. Для первой детали вероятность выйти из строя в первый месяц равна 0.1, для второй - 0.2, для третьей - 0.25. Какова вероятность того, что в первый месяц выйдут из строя: а). все детали б). только две детали в). хотя бы одна деталь г). от одной до двух деталей?"
   ]
  },
  {
   "cell_type": "markdown",
   "metadata": {},
   "source": [
    "a) совместная вероятность 3 событий - все детали выйдут из строя:"
   ]
  },
  {
   "cell_type": "code",
   "execution_count": 35,
   "metadata": {},
   "outputs": [
    {
     "data": {
      "text/plain": [
       "0.005000000000000001"
      ]
     },
     "execution_count": 35,
     "metadata": {},
     "output_type": "execute_result"
    }
   ],
   "source": [
    "P = 0.1*0.2*0.25\n",
    "P"
   ]
  },
  {
   "cell_type": "markdown",
   "metadata": {},
   "source": [
    "б) только две детали"
   ]
  },
  {
   "cell_type": "code",
   "execution_count": 38,
   "metadata": {},
   "outputs": [
    {
     "data": {
      "text/plain": [
       "0.095"
      ]
     },
     "execution_count": 38,
     "metadata": {},
     "output_type": "execute_result"
    }
   ],
   "source": [
    "# 1 вариант: выходят из строя 1 и 2 деталь:\n",
    "P1 = 0.1*0.2\n",
    "# 2 вариант: выходят из строя 1 и 3 деталь:\n",
    "P2 = 0.1*0.25\n",
    "# 3 вариант: выходят из строя 2 и 3 деталь:\n",
    "P3 = 0.2*0.25\n",
    "P = P1+P2+P3\n",
    "P"
   ]
  },
  {
   "cell_type": "markdown",
   "metadata": {},
   "source": [
    "в) хотя бы одна деталь"
   ]
  },
  {
   "cell_type": "code",
   "execution_count": 39,
   "metadata": {},
   "outputs": [
    {
     "data": {
      "text/plain": [
       "0.55"
      ]
     },
     "execution_count": 39,
     "metadata": {},
     "output_type": "execute_result"
    }
   ],
   "source": [
    "P = 0.1+0.2+0.25\n",
    "P"
   ]
  },
  {
   "cell_type": "markdown",
   "metadata": {},
   "source": [
    "г) от одной до двух деталей"
   ]
  },
  {
   "cell_type": "code",
   "execution_count": 41,
   "metadata": {},
   "outputs": [
    {
     "data": {
      "text/plain": [
       "0.2783333333333333"
      ]
     },
     "execution_count": 41,
     "metadata": {},
     "output_type": "execute_result"
    }
   ],
   "source": [
    "# это совместная вероятность выхода из строя 1 детали и 2 деталей\n",
    "# вероятность выхода из строя 1 детали:\n",
    "P1 = 1/3*0.1+1/3*0.2+1/3*0.25\n",
    "# вероятность выхода из строя 2 деталей посчитана выше\n",
    "P2 = 0.095\n",
    "#совместная вероятность выхода из строя 1 детали и 2 деталей:\n",
    "P = P1+P2\n",
    "P"
   ]
  },
  {
   "cell_type": "code",
   "execution_count": null,
   "metadata": {},
   "outputs": [],
   "source": []
  }
 ],
 "metadata": {
  "kernelspec": {
   "display_name": "Python 3",
   "language": "python",
   "name": "python3"
  },
  "language_info": {
   "codemirror_mode": {
    "name": "ipython",
    "version": 3
   },
   "file_extension": ".py",
   "mimetype": "text/x-python",
   "name": "python",
   "nbconvert_exporter": "python",
   "pygments_lexer": "ipython3",
   "version": "3.7.3"
  }
 },
 "nbformat": 4,
 "nbformat_minor": 2
}
