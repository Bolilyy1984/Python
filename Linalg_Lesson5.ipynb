{
 "cells": [
  {
   "cell_type": "markdown",
   "metadata": {},
   "source": [
    "### Практическое задание - Линейная алгебра: Урок 5.  Линейные преобразования"
   ]
  },
  {
   "cell_type": "markdown",
   "metadata": {},
   "source": [
    "1. Найти собственные векторы и собственные значения для линейного оператора, заданного матрицей A = ([[-1, -6], [2, 6]])"
   ]
  },
  {
   "cell_type": "code",
   "execution_count": 2,
   "metadata": {},
   "outputs": [],
   "source": [
    "import numpy as np"
   ]
  },
  {
   "cell_type": "code",
   "execution_count": 11,
   "metadata": {},
   "outputs": [
    {
     "name": "stdout",
     "output_type": "stream",
     "text": [
      "A:\n",
      "[[-1 -6]\n",
      " [ 2  6]]\n",
      "\n"
     ]
    }
   ],
   "source": [
    "A = np.array([[-1, -6], [2, 6]])\n",
    "print(f'A:\\n{A}\\n')"
   ]
  },
  {
   "cell_type": "markdown",
   "metadata": {},
   "source": [
    "Собственные значения находим по формуле: det(A-λI) = 0; \n",
    "\n",
    "    λ^2-(-1+6)*λ+(-6+12) = λ^2+5λ+6 = 0\n",
    "    D = b^2 + 4ac = (-5)^2-4*1*6 = 1\n",
    "    x1 = 2;\n",
    "    x2 = 3"
   ]
  },
  {
   "cell_type": "markdown",
   "metadata": {},
   "source": [
    "Проверим в Python:"
   ]
  },
  {
   "cell_type": "code",
   "execution_count": 12,
   "metadata": {},
   "outputs": [
    {
     "name": "stdout",
     "output_type": "stream",
     "text": [
      "Собственные значения:\n",
      "[2. 3.]\n"
     ]
    }
   ],
   "source": [
    "w, v = np.linalg.eig(A)\n",
    "print(f'Собственные значения:\\n{w}')"
   ]
  },
  {
   "cell_type": "markdown",
   "metadata": {},
   "source": [
    "Найдем собственные векторы:\n",
    "    для λ = 2:\n",
    "        \n",
    "    -x1+6x2=2x1\n",
    "    2x1+6x2=2x2\n",
    "    \n",
    "    3x1 = -6x2\n",
    "    2x1 = -x1\n",
    "    \n",
    "    x1 = -2\n",
    "    x2 = 1\n",
    "    \n",
    "    v1 = (-2, 1)\n",
    "    \n",
    "    для λ = 3:\n",
    "        \n",
    "    -x1+6x2=3x1\n",
    "    2x1+6x2=3x2\n",
    "    \n",
    "    4x1 = -6x2\n",
    "    2x1 = -3x1\n",
    "    \n",
    "    x1 = 3/2\n",
    "    x2 = -1\n",
    "    \n",
    "    v1 = (-2, 1)"
   ]
  },
  {
   "cell_type": "markdown",
   "metadata": {},
   "source": [
    "Проверим в Python:"
   ]
  },
  {
   "cell_type": "code",
   "execution_count": 13,
   "metadata": {},
   "outputs": [
    {
     "name": "stdout",
     "output_type": "stream",
     "text": [
      "Собственные векторы:\n",
      "[-0.89442719  0.4472136 ], [ 0.83205029 -0.5547002 ]\n",
      "\n"
     ]
    }
   ],
   "source": [
    "w, v = np.linalg.eig(A)\n",
    "print(f'Собственные векторы:\\n{v[:, 0]}, {v[:, 1]}\\n')"
   ]
  },
  {
   "cell_type": "markdown",
   "metadata": {},
   "source": [
    "2. Дан оператор поворота на 180 градусов, задаваемый матрицей [[-1, 0], [0, -1]]\n",
    "Показать, что любой вектор является для него собственным."
   ]
  },
  {
   "cell_type": "code",
   "execution_count": 9,
   "metadata": {},
   "outputs": [
    {
     "name": "stdout",
     "output_type": "stream",
     "text": [
      "A:\n",
      "[[-1  0]\n",
      " [ 0 -1]]\n",
      "\n"
     ]
    }
   ],
   "source": [
    "A = np.array([[-1, 0], [0, -1]])\n",
    "\n",
    "print(f'A:\\n{A}\\n')"
   ]
  },
  {
   "cell_type": "markdown",
   "metadata": {},
   "source": [
    "Собственным вектором линейного оператора A является ненулевой вектор x такой, что Ax = λx.\n",
    "Для единичной матрицы E любой вектор x является собственным, с собственным числом, равным 1, так как Ex = x.\n",
    "Так как матрица A диагональная, тогда собственные значения: λ1 = -1, λ2 =-1.\n",
    "\n",
    "Таким образом, любой ненулевой вектор является собственным для линейного оператора A =-1E."
   ]
  },
  {
   "cell_type": "markdown",
   "metadata": {},
   "source": [
    "3. Пусть линейный оператор задан матрицей [[1, 1], [-1, 3].\n",
    "Установить, является ли вектор  x=(1,1)  собственным вектором этого линейного оператора."
   ]
  },
  {
   "cell_type": "markdown",
   "metadata": {},
   "source": [
    "[[1, 1], [-1, 3] * [1, 1] = λ * [1, 1]\n",
    " \n",
    " 1+1 = 1*λ\n",
    " \n",
    "-1+3 = 1*λ\n",
    " \n",
    " λ=2\n",
    " λ=2\n",
    " \n",
    " Следовательно, вектор x=(1,1) является собственным вектором линейного оператора A, а его собственное значение составляет λ=2."
   ]
  },
  {
   "cell_type": "markdown",
   "metadata": {},
   "source": [
    "4. Пусть линейный оператор задан матрицей [[0, 3, 0], [3, 0, 0], [0, 0, 3]]. \n",
    "\n",
    "Установить, является ли вектор  x=(3,−3,−4)  собственным вектором этого линейного оператора."
   ]
  },
  {
   "cell_type": "code",
   "execution_count": 16,
   "metadata": {},
   "outputs": [
    {
     "name": "stdout",
     "output_type": "stream",
     "text": [
      "[[0 3 0]\n",
      " [3 0 0]\n",
      " [0 0 3]]\n"
     ]
    }
   ],
   "source": [
    "print(np.array([[0, 3, 0], [3, 0, 0], [0, 0, 3]]))"
   ]
  },
  {
   "cell_type": "markdown",
   "metadata": {},
   "source": [
    "[[0, 3, 0], [3, 0, 0], [0, 0, 3] * [3,−3,−4] = λ*[3,−3,−4]\n",
    " \n",
    " 3*λ = -9\n",
    " \n",
    " -3*λ = 9\n",
    " \n",
    " -4*λ = -12\n",
    " \n",
    " λ=3 \n",
    " λ=-3\n",
    " λ=3"
   ]
  },
  {
   "cell_type": "markdown",
   "metadata": {},
   "source": [
    "Вектор x=(3, -3, -4) не является собственным вектором линейного оператора A."
   ]
  },
  {
   "cell_type": "code",
   "execution_count": null,
   "metadata": {},
   "outputs": [],
   "source": []
  }
 ],
 "metadata": {
  "kernelspec": {
   "display_name": "Python 3",
   "language": "python",
   "name": "python3"
  },
  "language_info": {
   "codemirror_mode": {
    "name": "ipython",
    "version": 3
   },
   "file_extension": ".py",
   "mimetype": "text/x-python",
   "name": "python",
   "nbconvert_exporter": "python",
   "pygments_lexer": "ipython3",
   "version": "3.7.3"
  }
 },
 "nbformat": 4,
 "nbformat_minor": 2
}
