{
 "cells": [
  {
   "cell_type": "markdown",
   "metadata": {},
   "source": [
    "### Практическое задание - Линейная алгебра: Урок 3, 4."
   ]
  },
  {
   "cell_type": "markdown",
   "metadata": {},
   "source": [
    "#### Урок 3: Матрицы и матричные операции. Часть 1"
   ]
  },
  {
   "cell_type": "markdown",
   "metadata": {},
   "source": [
    "1. Установить, какие произведения матриц  AB  и  BA  определены, и найти размерности полученных матриц:\n",
    "\n",
    "а)  A  — матрица  4×2 ,  B  — матрица  4×2 ;\n",
    "\n",
    "б)  A  — матрица  2×5 ,  B  — матрица  5×3 ;\n",
    "\n",
    "в)  A  — матрица  8×3 ,  B  — матрица  3×8 ;\n",
    "\n",
    "г)  A  — квадратная матрица  4×4 ,  B  — квадратная матрица  4×4 ."
   ]
  },
  {
   "cell_type": "markdown",
   "metadata": {},
   "source": [
    "По правилу произведения матриц число столбцов в матрице А должно совпадать с числом строк в матрице В. Следовательно:"
   ]
  },
  {
   "cell_type": "markdown",
   "metadata": {},
   "source": [
    "а)A  — матрица  4×2 ,  B  — матрица  4×2 \n",
    "в матрице А число столбцов = 2, а в матрице В число строк = 4, и наоборот, поэтому произведения матриц AB и BA не могут быть определены."
   ]
  },
  {
   "cell_type": "markdown",
   "metadata": {},
   "source": [
    "Проверим в Python: "
   ]
  },
  {
   "cell_type": "code",
   "execution_count": 5,
   "metadata": {},
   "outputs": [],
   "source": [
    "import numpy as np"
   ]
  },
  {
   "cell_type": "code",
   "execution_count": 6,
   "metadata": {},
   "outputs": [],
   "source": [
    "def create_matrix(n, m, min_value=0, max_value=9):\n",
    "    try:\n",
    "        return np.random.randint(min_value, max_value+1, (n, m))\n",
    "    except Exception as e:\n",
    "        return e\n",
    "\n",
    "def check(A, B):\n",
    "    try:\n",
    "        if len(A[0]) == len(B):\n",
    "            return True\n",
    "        else:\n",
    "            return False\n",
    "    except Exception as e:\n",
    "        print(f'Exception: {e}')\n",
    "        return False"
   ]
  },
  {
   "cell_type": "code",
   "execution_count": 7,
   "metadata": {},
   "outputs": [
    {
     "name": "stdout",
     "output_type": "stream",
     "text": [
      "A:\n",
      "[[8 6]\n",
      " [1 8]\n",
      " [1 4]\n",
      " [3 7]]\n",
      "\n",
      "B:\n",
      "[[7 6]\n",
      " [1 7]\n",
      " [2 4]\n",
      " [8 2]]\n",
      "\n",
      "Произведение матриц AB не определено.\n",
      "\n",
      "Произведение матриц BA не определено.\n",
      "\n"
     ]
    }
   ],
   "source": [
    "A = create_matrix(4, 2)\n",
    "B = create_matrix(4, 2)\n",
    "\n",
    "print(f'A:\\n{A}\\n')\n",
    "print(f'B:\\n{B}\\n')\n",
    "\n",
    "if check(A, B):\n",
    "    print(f'AB:\\n{np.dot(A, B)}\\n')\n",
    "else:\n",
    "    print('Произведение матриц AB не определено.\\n')\n",
    "    \n",
    "if check(B, A):\n",
    "    print(f'BA:\\n{np.dot(B, A)}\\n')\n",
    "else:\n",
    "    print('Произведение матриц BA не определено.\\n')"
   ]
  },
  {
   "cell_type": "markdown",
   "metadata": {},
   "source": [
    "б) A  — матрица  2×5 ,  B  — матрица  5×3 \n",
    "1. в матрице А число столбцов = 5, в матрице В число строк = 5, произведения матриц AB может быть определено, размерность матрицы AB при этом составит 2х3.\n",
    "2. в матрице B число столбцов = 3, в матрице А число строк = 2, произведения матриц BA не может быть определено."
   ]
  },
  {
   "cell_type": "markdown",
   "metadata": {},
   "source": [
    "Проверим в Python:"
   ]
  },
  {
   "cell_type": "code",
   "execution_count": 4,
   "metadata": {},
   "outputs": [
    {
     "name": "stdout",
     "output_type": "stream",
     "text": [
      "A:\n",
      "[[9 7 8 2 3]\n",
      " [9 3 5 5 6]]\n",
      "\n",
      "B:\n",
      "[[5 9 3]\n",
      " [6 1 0]\n",
      " [5 6 3]\n",
      " [9 1 8]\n",
      " [0 5 9]]\n",
      "\n",
      "AB:\n",
      "[[145 153  94]\n",
      " [133 149 136]]\n",
      "\n",
      "Произведение матриц BA не определено.\n",
      "\n"
     ]
    }
   ],
   "source": [
    "A = create_matrix(2, 5)\n",
    "B = create_matrix(5, 3)\n",
    "\n",
    "print(f'A:\\n{A}\\n')\n",
    "print(f'B:\\n{B}\\n')\n",
    "\n",
    "if check(A, B):\n",
    "    print(f'AB:\\n{np.dot(A, B)}\\n')\n",
    "else:\n",
    "    print('Произведение матриц AB не определено.\\n')\n",
    "    \n",
    "if check(B, A):\n",
    "    print(f'BA:\\n{np.dot(B, A)}\\n')\n",
    "else:\n",
    "    print('Произведение матриц BA не определено.\\n')"
   ]
  },
  {
   "cell_type": "markdown",
   "metadata": {},
   "source": [
    "в)  A  — матрица  8×3 ,  B  — матрица  3×8\n",
    "1. в матрице А число столбцов = 3, в матрице В число строк = 3, произведения матриц AB может быть определено, размерность матрицы AB при этом составит 8х8.\n",
    "2. в матрице B число столбцов = 8, в матрице А число строк = 8, произведения матриц BA может быть определено, размерность матрицы AB при этом составит 3х3."
   ]
  },
  {
   "cell_type": "markdown",
   "metadata": {},
   "source": [
    "Проверим в Python:"
   ]
  },
  {
   "cell_type": "code",
   "execution_count": 8,
   "metadata": {},
   "outputs": [
    {
     "name": "stdout",
     "output_type": "stream",
     "text": [
      "A:\n",
      "[[9 4 8]\n",
      " [5 0 0]\n",
      " [7 9 9]\n",
      " [7 6 9]\n",
      " [5 3 9]\n",
      " [3 5 2]\n",
      " [0 6 7]\n",
      " [4 6 3]]\n",
      "\n",
      "B:\n",
      "[[9 7 7 2 7 7 0 4]\n",
      " [4 2 5 0 4 5 1 4]\n",
      " [5 9 8 9 8 7 6 7]]\n",
      "\n",
      "AB:\n",
      "[[137 143 147  90 143 139  52 108]\n",
      " [ 45  35  35  10  35  35   0  20]\n",
      " [144 148 166  95 157 157  63 127]\n",
      " [132 142 151  95 145 142  60 115]\n",
      " [102 122 122  91 119 113  57  95]\n",
      " [ 57  49  62  24  57  60  17  46]\n",
      " [ 59  75  86  63  80  79  48  73]\n",
      " [ 75  67  82  35  76  79  24  61]]\n",
      "\n",
      "BA:\n",
      "[[251 191 242]\n",
      " [132 128 142]\n",
      " [298 283 342]]\n",
      "\n"
     ]
    }
   ],
   "source": [
    "A = create_matrix(8, 3)\n",
    "B = create_matrix(3, 8)\n",
    "\n",
    "print(f'A:\\n{A}\\n')\n",
    "print(f'B:\\n{B}\\n')\n",
    "\n",
    "if check(A, B):\n",
    "    print(f'AB:\\n{np.dot(A, B)}\\n')\n",
    "else:\n",
    "    print('Произведение матриц AB не определено.\\n')\n",
    "    \n",
    "if check(B, A):\n",
    "    print(f'BA:\\n{np.dot(B, A)}\\n')\n",
    "else:\n",
    "    print('Произведение матриц BA не определено.\\n')"
   ]
  },
  {
   "cell_type": "markdown",
   "metadata": {},
   "source": [
    "г)  A  — квадратная матрица  4×4 ,  B  — квадратная матрица  4×4\n",
    "в матрице А и матрице В число строк и столбцов одинаковое и = 4, произведения матриц AB и ВА может быть определено, размерность при этом составит 4х4."
   ]
  },
  {
   "cell_type": "markdown",
   "metadata": {},
   "source": [
    "Проверим в Python:"
   ]
  },
  {
   "cell_type": "code",
   "execution_count": 9,
   "metadata": {},
   "outputs": [
    {
     "name": "stdout",
     "output_type": "stream",
     "text": [
      "A:\n",
      "[[1 7 6 8]\n",
      " [0 9 5 4]\n",
      " [3 7 7 5]\n",
      " [4 6 1 1]]\n",
      "\n",
      "B:\n",
      "[[1 7 2 9]\n",
      " [7 0 5 1]\n",
      " [9 4 1 2]\n",
      " [9 9 4 1]]\n",
      "\n",
      "AB:\n",
      "[[176 103  75  36]\n",
      " [144  56  66  23]\n",
      " [160  94  68  53]\n",
      " [ 64  41  43  45]]\n",
      "\n",
      "BA:\n",
      "[[ 43 138  64  55]\n",
      " [ 26  90  78  82]\n",
      " [ 20 118  83  95]\n",
      " [ 25 178 128 129]]\n",
      "\n"
     ]
    }
   ],
   "source": [
    "A = create_matrix(4, 4)\n",
    "B = create_matrix(4, 4)\n",
    "\n",
    "print(f'A:\\n{A}\\n')\n",
    "print(f'B:\\n{B}\\n')\n",
    "\n",
    "if check(A, B):\n",
    "    print(f'AB:\\n{np.dot(A, B)}\\n')\n",
    "else:\n",
    "    print('Произведение матриц AB не определено.\\n')\n",
    "    \n",
    "if check(B, A):\n",
    "    print(f'BA:\\n{np.dot(B, A)}\\n')\n",
    "else:\n",
    "    print('Произведение матриц BA не определено.\\n')"
   ]
  },
  {
   "cell_type": "markdown",
   "metadata": {},
   "source": [
    "2. Найти сумму и произведение матриц  ([1, −2], [3, 0])  и  B=([4, -1], [0, 5])"
   ]
  },
  {
   "cell_type": "code",
   "execution_count": 14,
   "metadata": {},
   "outputs": [
    {
     "name": "stdout",
     "output_type": "stream",
     "text": [
      "A:\n",
      "[[ 1 -2]\n",
      " [ 3  0]]\n",
      "\n",
      "B:\n",
      "[[ 4 -1]\n",
      " [ 0  5]]\n",
      "\n",
      "A + B:\n",
      "[[ 5 -3]\n",
      " [ 3  5]]\n",
      "\n",
      "AB:\n",
      "[[  4 -11]\n",
      " [ 12  -3]]\n",
      "\n",
      "BA:\n",
      "[[ 1 -8]\n",
      " [15  0]]\n",
      "\n"
     ]
    }
   ],
   "source": [
    "A = np.array([[1, -2], [3, 0]])\n",
    "B = np.array([[4, -1], [0, 5]])\n",
    "\n",
    "print(f'A:\\n{A}\\n')\n",
    "print(f'B:\\n{B}\\n')\n",
    "\n",
    "print(f'A + B:\\n{A + B}\\n')\n",
    "print(f'AB:\\n{np.dot(A, B)}\\n')\n",
    "print(f'BA:\\n{np.dot(B, A)}\\n')"
   ]
  },
  {
   "cell_type": "markdown",
   "metadata": {},
   "source": [
    "3. Из закономерностей сложения и умножения матриц на число можно сделать вывод, что матрицы одного размера образуют линейное пространство. Вычислить линейную комбинацию  3A−2B+4C  для матриц  A=[[1, 7], [3, -6]] ,  B=[[0, 5], [2, -1]] ,  C=[[2, -4], [1, 1]])."
   ]
  },
  {
   "cell_type": "markdown",
   "metadata": {},
   "source": [
    "Для того, чтобы вычислить линейную комбинацию нужно сделать последовательно операции умножения на скаляр:"
   ]
  },
  {
   "cell_type": "code",
   "execution_count": 20,
   "metadata": {},
   "outputs": [
    {
     "name": "stdout",
     "output_type": "stream",
     "text": [
      "3*A:\n",
      "[[[  3  21]\n",
      "  [  9 -18]]]\n",
      "\n",
      "2*B:\n",
      "[[[ 0 10]\n",
      "  [ 4 -2]]]\n",
      "\n",
      "4*C:\n",
      "[[[  8 -16]\n",
      "  [  4   4]]]\n",
      "\n"
     ]
    }
   ],
   "source": [
    "# 3*A\n",
    "A = np.array([[1, 7], [3, -6]])\n",
    "A_3 = 3*np.array([A])\n",
    "print(f'3*A:\\n{A_3}\\n')\n",
    "# 2*B\n",
    "B = np.array([[0, 5], [2, -1]])\n",
    "B_2 = 2*np.array([B])\n",
    "print(f'2*B:\\n{B_2}\\n')\n",
    "#4*C\n",
    "C = np.array([[2, -4], [1, 1]])\n",
    "C_4 = 4*np.array([C])\n",
    "print(f'4*C:\\n{C_4}\\n')"
   ]
  },
  {
   "cell_type": "markdown",
   "metadata": {},
   "source": [
    "Затем найдем комбинацию (LinCom):"
   ]
  },
  {
   "cell_type": "code",
   "execution_count": 22,
   "metadata": {},
   "outputs": [
    {
     "name": "stdout",
     "output_type": "stream",
     "text": [
      "LinCom:\n",
      "[[[ 11  -5]\n",
      "  [  9 -12]]]\n",
      "\n"
     ]
    }
   ],
   "source": [
    "LinCom = np.array(A_3-B_2+C_4)\n",
    "print(f'LinCom:\\n{LinCom}\\n')"
   ]
  },
  {
   "cell_type": "markdown",
   "metadata": {},
   "source": [
    "4. Дана матрица  A= ([[4, 1], [5, -2], [2, 3]]). Вычислить  AAT  и  ATA ."
   ]
  },
  {
   "cell_type": "markdown",
   "metadata": {},
   "source": [
    "Выполним транспонирование с помощию np.T:"
   ]
  },
  {
   "cell_type": "code",
   "execution_count": 23,
   "metadata": {},
   "outputs": [
    {
     "name": "stdout",
     "output_type": "stream",
     "text": [
      "A:\n",
      "[[ 4  1]\n",
      " [ 5 -2]\n",
      " [ 2  3]]\n",
      "\n",
      "A.T:\n",
      "[[ 4  5  2]\n",
      " [ 1 -2  3]]\n",
      "\n",
      "A x A.T:\n",
      "[[17 18 11]\n",
      " [18 29  4]\n",
      " [11  4 13]]\n",
      "\n",
      "A.T x A:\n",
      "[[45  0]\n",
      " [ 0 14]]\n",
      "\n"
     ]
    }
   ],
   "source": [
    "A = np.array([[4, 1], [5, -2], [2, 3]])\n",
    "\n",
    "print(f'A:\\n{A}\\n')\n",
    "print(f'A.T:\\n{A.T}\\n')\n",
    "\n",
    "print(f'A x A.T:\\n{np.dot(A, A.T)}\\n')\n",
    "print(f'A.T x A:\\n{np.dot(A.T, A)}\\n')"
   ]
  },
  {
   "cell_type": "markdown",
   "metadata": {},
   "source": [
    "5*. Написать на Python функцию для перемножения двух произвольных матриц, не используя NumPy."
   ]
  },
  {
   "cell_type": "code",
   "execution_count": 24,
   "metadata": {},
   "outputs": [],
   "source": [
    "def generate_array(n, m, min_value=0, max_value=9):\n",
    "    try:\n",
    "        return [[np.random.randint(min_value, max_value+1) for _ in range(m)] for _ in range(n)]\n",
    "    except Exception as e:\n",
    "        return e\n",
    "\n",
    "def matrix_product(A, B):\n",
    "    try:\n",
    "        C = generate_array(len(A), len(B[0]), 0, 0)\n",
    "        for i in range(len(A)):  \n",
    "            for j in range(len(B[0])): \n",
    "                for k in range(len(B)): \n",
    "                    C[i][j] += A[i][k] * B[k][j]\n",
    "        return C\n",
    "    except Exception as e:\n",
    "        return e"
   ]
  },
  {
   "cell_type": "markdown",
   "metadata": {},
   "source": [
    "#### Урок 3: Матрицы и матричные операции. Часть 2"
   ]
  },
  {
   "cell_type": "markdown",
   "metadata": {},
   "source": [
    "1. Вычислить определитель:"
   ]
  },
  {
   "cell_type": "code",
   "execution_count": 43,
   "metadata": {},
   "outputs": [],
   "source": [
    "import math"
   ]
  },
  {
   "cell_type": "code",
   "execution_count": 49,
   "metadata": {},
   "outputs": [
    {
     "name": "stdout",
     "output_type": "stream",
     "text": [
      "A:\n",
      "[[ 0.70710678 -0.70710678]\n",
      " [ 0.70710678  0.70710678]]\n",
      "\n",
      "Определитель:\n",
      "1.0000000000000002\n",
      "\n"
     ]
    }
   ],
   "source": [
    "# a) [[sinx,cosx]−[cosx,sinx]]\n",
    "# В квадратной матрице определитель находим как разница произведений элементов матрицы, находящихся по диагонали\n",
    "x = math.pi / 4\n",
    "A = np.array([[math.sin(x), -math.cos(x)], [math.cos(x), math.sin(x)]])\n",
    "print(f'A:\\n{A}\\n')\n",
    "det_A = A[0][0]*A[1][1] - A[0][1]*A[1][0]\n",
    "print(f'Определитель:\\n{det_A}\\n')"
   ]
  },
  {
   "cell_type": "code",
   "execution_count": 50,
   "metadata": {},
   "outputs": [
    {
     "name": "stdout",
     "output_type": "stream",
     "text": [
      "A:\n",
      "[[4 2 3]\n",
      " [0 5 1]\n",
      " [0 0 9]]\n",
      "\n",
      "Определитель:\n",
      "180\n"
     ]
    }
   ],
   "source": [
    "# б) ([[4, 2, 3], [0, 5, 1], [0, 0, 9]])\n",
    "A = np.array([[4, 2, 3], [0, 5, 1], [0, 0, 9]])\n",
    "print(f'A:\\n{A}\\n')\n",
    "print(f'Определитель:\\n{np.linalg.det(A):.0f}')"
   ]
  },
  {
   "cell_type": "code",
   "execution_count": 51,
   "metadata": {},
   "outputs": [
    {
     "name": "stdout",
     "output_type": "stream",
     "text": [
      "A:\n",
      "[[1 2 3]\n",
      " [4 5 6]\n",
      " [7 8 9]]\n",
      "\n",
      "Определитель:\n",
      "0\n"
     ]
    }
   ],
   "source": [
    "# в)\n",
    "\n",
    "A = np.array([[1, 2, 3], [4, 5, 6], [7, 8, 9]])\n",
    "print(f'A:\\n{A}\\n')\n",
    "print(f'Определитель:\\n{np.linalg.det(A):.0f}')"
   ]
  },
  {
   "cell_type": "markdown",
   "metadata": {},
   "source": [
    "2. Определитель матрицы  A  равен  4 . Найти:\n",
    "\n",
    "а)  det(A^2) ;\n",
    "\n",
    "б)  det(A^T) ;\n",
    "\n",
    "в)  det(2A) ."
   ]
  },
  {
   "cell_type": "code",
   "execution_count": 58,
   "metadata": {},
   "outputs": [
    {
     "name": "stdout",
     "output_type": "stream",
     "text": [
      "A:\n",
      "[[ 1 -2]\n",
      " [ 1  2]]\n",
      "\n",
      "det_A: 4.0\n",
      "\n"
     ]
    }
   ],
   "source": [
    "#a) \n",
    "\n",
    "A = np.array([[1, -2], [1, 2]])\n",
    "\n",
    "print(f'A:\\n{A}\\n')\n",
    "print(f'det_A: {np.linalg.det(A)}\\n')"
   ]
  },
  {
   "cell_type": "code",
   "execution_count": 59,
   "metadata": {},
   "outputs": [
    {
     "name": "stdout",
     "output_type": "stream",
     "text": [
      "A^2:\n",
      "[[-1 -6]\n",
      " [ 3  2]]\n",
      "\n",
      "det_A^2: 16.000000000000007\n",
      "\n"
     ]
    }
   ],
   "source": [
    "print(f'A^2:\\n{np.dot(A, A)}\\n')\n",
    "print(f'det_A^2: {np.linalg.det(np.dot(A, A))}\\n')"
   ]
  },
  {
   "cell_type": "code",
   "execution_count": 60,
   "metadata": {},
   "outputs": [
    {
     "name": "stdout",
     "output_type": "stream",
     "text": [
      "A:\n",
      "[[ 1  1]\n",
      " [-2  2]]\n",
      "\n",
      "det_A.T: 4.0\n",
      "\n"
     ]
    }
   ],
   "source": [
    "# б)\n",
    "print(f'A:\\n{A.T}\\n')\n",
    "print(f'det_A.T: {np.linalg.det(A.T)}\\n')"
   ]
  },
  {
   "cell_type": "code",
   "execution_count": 62,
   "metadata": {},
   "outputs": [
    {
     "name": "stdout",
     "output_type": "stream",
     "text": [
      "2A:\n",
      "[[ 2 -4]\n",
      " [ 2  4]]\n",
      "\n",
      "det_2A: 15.999999999999998\n",
      "\n"
     ]
    }
   ],
   "source": [
    "# в)\n",
    "print(f'2A:\\n{np.dot(2, A)}\\n')\n",
    "print(f'det_2A: {np.linalg.det(2 * A)}\\n')"
   ]
  },
  {
   "cell_type": "markdown",
   "metadata": {},
   "source": [
    "3. Доказать, что матрица\n",
    "\n",
    "[[-2, 7, -3], [4, -14, 6], [-3, 7, 13]])\n",
    "\n",
    "вырожденная."
   ]
  },
  {
   "cell_type": "markdown",
   "metadata": {},
   "source": [
    "Матрица является вырожденной если:\n",
    "\n",
    "1) Если ее определитель равен 0.\n",
    "\n",
    "2) Если, как минимум, две строки матрицы A линейно зависимы."
   ]
  },
  {
   "cell_type": "code",
   "execution_count": 65,
   "metadata": {},
   "outputs": [
    {
     "name": "stdout",
     "output_type": "stream",
     "text": [
      "A:\n",
      "[[ -2   7  -3]\n",
      " [  4 -14   6]\n",
      " [ -3   7  13]]\n",
      "\n",
      "det_A: 0.0\n",
      "\n"
     ]
    }
   ],
   "source": [
    "A = np.array([[-2, 7, -3], [4, -14, 6], [-3, 7, 13]])\n",
    "\n",
    "print(f'A:\\n{A}\\n')\n",
    "\n",
    "print(f'det_A: {np.linalg.det( A)}\\n')\n"
   ]
  },
  {
   "cell_type": "markdown",
   "metadata": {},
   "source": [
    "4. Найти ранг матрицы:"
   ]
  },
  {
   "cell_type": "code",
   "execution_count": 66,
   "metadata": {},
   "outputs": [
    {
     "name": "stdout",
     "output_type": "stream",
     "text": [
      "A:\n",
      "[[1 2 3]\n",
      " [1 1 1]\n",
      " [2 3 4]]\n",
      "\n"
     ]
    }
   ],
   "source": [
    "# а) \n",
    "A = np.array([[1, 2, 3], [1, 1, 1], [2, 3, 4]])\n",
    "\n",
    "print(f'A:\\n{A}\\n')"
   ]
  },
  {
   "cell_type": "code",
   "execution_count": 70,
   "metadata": {},
   "outputs": [
    {
     "name": "stdout",
     "output_type": "stream",
     "text": [
      "[1 2 3] + [1 1 1] = [2 3 4]\n",
      "\n",
      "Третья строка матрицы A:\n",
      "[2 3 4]\n",
      "\n",
      "rank_A: 2\n",
      "\n"
     ]
    }
   ],
   "source": [
    "# Первая + вторая строки матрицы A:\n",
    "\n",
    "print(f'{A[0]} + {A[1]} = {A[0] + A[1]}\\n')\n",
    "print(f'Третья строка матрицы A:')\n",
    "print(f'{A[2]}\\n')\n",
    "\n",
    "# Третья строка матрицы - это линейная комбинация первой и второй строк\n",
    "\n",
    "print(f'rank_A: 2\\n')"
   ]
  },
  {
   "cell_type": "code",
   "execution_count": 72,
   "metadata": {},
   "outputs": [
    {
     "name": "stdout",
     "output_type": "stream",
     "text": [
      "A:\n",
      "[[0 0 2 1]\n",
      " [0 0 2 2]\n",
      " [0 0 4 3]\n",
      " [2 3 5 6]]\n",
      "\n",
      "[0 0 4 3] - [0 0 2 2] = [0 0 2 1]\n",
      "\n",
      "[0 0 2 1]\n",
      "\n",
      "rank(A): 3\n",
      "\n"
     ]
    }
   ],
   "source": [
    "# б)\n",
    "\n",
    "A = np.array([[0, 0, 2, 1], [0, 0, 2, 2], [0, 0, 4, 3], [2, 3, 5, 6]])\n",
    "\n",
    "print(f'A:\\n{A}\\n')\n",
    "print(f'{A[2]} - {A[1]} = {A[2] - A[1]}\\n')\n",
    "print(f'{A[0]}\\n')\n",
    "print(f'rank(A): 3\\n')"
   ]
  },
  {
   "cell_type": "code",
   "execution_count": null,
   "metadata": {},
   "outputs": [],
   "source": []
  },
  {
   "cell_type": "code",
   "execution_count": null,
   "metadata": {},
   "outputs": [],
   "source": []
  }
 ],
 "metadata": {
  "kernelspec": {
   "display_name": "Python 3",
   "language": "python",
   "name": "python3"
  },
  "language_info": {
   "codemirror_mode": {
    "name": "ipython",
    "version": 3
   },
   "file_extension": ".py",
   "mimetype": "text/x-python",
   "name": "python",
   "nbconvert_exporter": "python",
   "pygments_lexer": "ipython3",
   "version": "3.7.3"
  }
 },
 "nbformat": 4,
 "nbformat_minor": 2
}
