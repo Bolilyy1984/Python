{
 "cells": [
  {
   "cell_type": "markdown",
   "metadata": {},
   "source": [
    "#### Практическое задание: Урок 3. Описательная статистика. Качественные и количественные характеристики популяции. Графическое представление данных"
   ]
  },
  {
   "cell_type": "markdown",
   "metadata": {},
   "source": [
    "\n",
    "##### 1. Даны значения зарплат из выборки выпускников: 100, 80, 75, 77, 89, 33, 45, 25, 65, 17, 30, 24, 57, 55, 70, 75, 65, 84, 90, 150. Посчитать (желательно без использования статистических методов наподобие std, var, mean) среднее арифметическое, среднее квадратичное отклонение, смещенную и несмещенную оценки дисперсий для данной выборки."
   ]
  },
  {
   "cell_type": "code",
   "execution_count": 1,
   "metadata": {},
   "outputs": [],
   "source": [
    "import numpy as np\n",
    "import pandas as pd"
   ]
  },
  {
   "cell_type": "code",
   "execution_count": 2,
   "metadata": {},
   "outputs": [],
   "source": [
    "Salary = np.array([100, 80, 75, 77, 89, 33, 45, 25, 65, 17, 30, 24, 57, 55, 70, 75, 65, 84, 90, 150])"
   ]
  },
  {
   "cell_type": "code",
   "execution_count": 3,
   "metadata": {},
   "outputs": [
    {
     "data": {
      "text/plain": [
       "65.3"
      ]
     },
     "execution_count": 3,
     "metadata": {},
     "output_type": "execute_result"
    }
   ],
   "source": [
    "mean_salary = Salary.sum()/len(Salary)\n",
    "mean_salary"
   ]
  },
  {
   "cell_type": "markdown",
   "metadata": {},
   "source": [
    "##### Cреднее арифметическое выборки выпускников равно 65.3"
   ]
  },
  {
   "cell_type": "markdown",
   "metadata": {},
   "source": [
    "Найдем среднее квадратичное отклонение для выборки (S):"
   ]
  },
  {
   "cell_type": "code",
   "execution_count": 4,
   "metadata": {},
   "outputs": [
    {
     "name": "stdout",
     "output_type": "stream",
     "text": [
      "19002.2\n",
      "950.11\n",
      "30.823854398825596\n"
     ]
    }
   ],
   "source": [
    "A = ((Salary - Salary.mean())**2).sum()\n",
    "print(A)\n",
    "S2 = A / (len(Salary))\n",
    "print(S2)\n",
    "S = np.sqrt(S2)\n",
    "print(S)"
   ]
  },
  {
   "cell_type": "markdown",
   "metadata": {},
   "source": [
    "##### Cреднее квадратичное отклонение для выборки (S) равно 30.823854398825596"
   ]
  },
  {
   "cell_type": "markdown",
   "metadata": {},
   "source": [
    "Смещенная оценка дисперсии равна среднему квадратичному отклонению, возведенному в квадрат:"
   ]
  },
  {
   "cell_type": "code",
   "execution_count": 10,
   "metadata": {},
   "outputs": [
    {
     "data": {
      "text/plain": [
       "950.11"
      ]
     },
     "execution_count": 10,
     "metadata": {},
     "output_type": "execute_result"
    }
   ],
   "source": [
    "Var = S2\n",
    "Var"
   ]
  },
  {
   "cell_type": "markdown",
   "metadata": {},
   "source": [
    "Для нахождения НЕсмещенной оценки дисперсии делим сумму квадратов разностей всех величин со средним значением не на  n , а на  n−1:"
   ]
  },
  {
   "cell_type": "code",
   "execution_count": 11,
   "metadata": {},
   "outputs": [
    {
     "data": {
      "text/plain": [
       "1000.1157894736842"
      ]
     },
     "execution_count": 11,
     "metadata": {},
     "output_type": "execute_result"
    }
   ],
   "source": [
    "Var2 = A / (len(Salary) - 1)\n",
    "Var2"
   ]
  },
  {
   "cell_type": "markdown",
   "metadata": {},
   "source": [
    "##### Смещенная оценка дисперсии равна 950.11, НЕсмещенная - 1000.1157894736842"
   ]
  },
  {
   "cell_type": "markdown",
   "metadata": {},
   "source": [
    "##### 2. В первом ящике находится 8 мячей, из которых 5 - белые. Во втором ящике - 12 мячей, из которых 5 белых. Из первого ящика вытаскивают случайным образом два мяча, из второго - 4. Какова вероятность того, что 3 мяча белые?"
   ]
  },
  {
   "cell_type": "code",
   "execution_count": 12,
   "metadata": {},
   "outputs": [],
   "source": [
    "from math import factorial"
   ]
  },
  {
   "cell_type": "code",
   "execution_count": 13,
   "metadata": {},
   "outputs": [],
   "source": [
    "def combinations(n, k):\n",
    "    return int(factorial(n) / (factorial(k) * factorial(n - k)))"
   ]
  },
  {
   "cell_type": "markdown",
   "metadata": {},
   "source": [
    "Возможные варианты 3 белых мячей из выбранных 6 мячей, вытащенных из 2 ящиков:"
   ]
  },
  {
   "cell_type": "markdown",
   "metadata": {},
   "source": [
    "Вариант №1: 1 ящик - 2 белых, 2 ящик - 1 белый"
   ]
  },
  {
   "cell_type": "code",
   "execution_count": 14,
   "metadata": {},
   "outputs": [
    {
     "name": "stdout",
     "output_type": "stream",
     "text": [
      "0.35714285714285715\n",
      "0.35353535353535354\n",
      "0.12626262626262627\n"
     ]
    }
   ],
   "source": [
    "P11 = combinations(5, 2)/ combinations(8, 2)\n",
    "print(P11)\n",
    "# для 2 ящика нужно вычислить совместную вероятность 2 событий: 1. вытащили 1 белый 2. вытащили 3 НЕбелых\n",
    "P12 = combinations(5, 1) * combinations(7, 3)/combinations(12, 4)\n",
    "print(P12)\n",
    "P1 = P11*P12\n",
    "print(P1)"
   ]
  },
  {
   "cell_type": "markdown",
   "metadata": {},
   "source": [
    "Вариант №2: 1 ящик - 0 белых, 2 ящик - 3 белых"
   ]
  },
  {
   "cell_type": "code",
   "execution_count": 15,
   "metadata": {},
   "outputs": [
    {
     "name": "stdout",
     "output_type": "stream",
     "text": [
      "0.10714285714285714\n",
      "0.1414141414141414\n",
      "0.01515151515151515\n"
     ]
    }
   ],
   "source": [
    "P21 = combinations(3, 2)/ combinations(8, 2)\n",
    "print(P21)\n",
    "# для 2 ящика нужно вычислить совместную вероятность 2 событий: 1. вытащили 3 белых 2. вытащили 1 НЕбелый\n",
    "P22 = combinations(5, 3) * combinations(7, 1)/combinations(12, 4)\n",
    "print(P22)\n",
    "P2 = P21*P22\n",
    "print(P2)"
   ]
  },
  {
   "cell_type": "markdown",
   "metadata": {},
   "source": [
    "Вариант №3: 1 ящик - 1 белый, 2 ящик - 2 белых"
   ]
  },
  {
   "cell_type": "code",
   "execution_count": 16,
   "metadata": {},
   "outputs": [
    {
     "name": "stdout",
     "output_type": "stream",
     "text": [
      "0.5357142857142857\n",
      "0.42424242424242425\n",
      "0.22727272727272727\n"
     ]
    }
   ],
   "source": [
    "# для 1 ящика нужно вычислить совместную вероятность 2 событий: 1. вытащили 1 белый 2. вытащили 1 НЕбелый\n",
    "P31 = combinations(3, 1)* combinations(5, 1)/combinations(8, 2)\n",
    "print(P31)\n",
    "# для 2 ящика нужно вычислить совместную вероятность 2 событий: 1. вытащили 2 белых 2. вытащили 2 НЕбелых\n",
    "P32 = combinations(5, 2) * combinations(7, 2)/combinations(12, 4)\n",
    "print(P32)\n",
    "P3 = P31*P32\n",
    "print(P3)"
   ]
  },
  {
   "cell_type": "markdown",
   "metadata": {},
   "source": [
    "Считаем совокупную вероятность 3 вариантов событий:"
   ]
  },
  {
   "cell_type": "code",
   "execution_count": 17,
   "metadata": {},
   "outputs": [
    {
     "data": {
      "text/plain": [
       "0.3686868686868687"
      ]
     },
     "execution_count": 17,
     "metadata": {},
     "output_type": "execute_result"
    }
   ],
   "source": [
    "P = P1+P2+P3\n",
    "P"
   ]
  },
  {
   "cell_type": "markdown",
   "metadata": {},
   "source": [
    "##### Ответ: вероятность того, что 3 мяча белые равна 0.3686868686868687"
   ]
  },
  {
   "cell_type": "markdown",
   "metadata": {},
   "source": [
    "##### 3. На соревновании по биатлону один из трех спортсменов стреляет и попадает в мишень. Вероятность попадания для первого спортсмена равна 0.9, для второго — 0.8, для третьего — 0.6. Найти вероятность того, что выстрел произведен: a). первым спортсменом б). вторым спортсменом в). третьим спортсменом."
   ]
  },
  {
   "cell_type": "markdown",
   "metadata": {},
   "source": [
    "Вероятность выстрела каждого из трех спортсменов равна 1/3:"
   ]
  },
  {
   "cell_type": "code",
   "execution_count": 23,
   "metadata": {},
   "outputs": [],
   "source": [
    "pB1 = 1/3\n",
    "pB2 = 1/3\n",
    "pB3 = 1/3"
   ]
  },
  {
   "cell_type": "markdown",
   "metadata": {},
   "source": [
    "Вероятность попадания спортсменов, при условии, что выстрел произведен:"
   ]
  },
  {
   "cell_type": "code",
   "execution_count": 24,
   "metadata": {},
   "outputs": [],
   "source": [
    "pA_B1 = 0.9\n",
    "pA_B2 = 0.8\n",
    "pA_B3 = 0.6"
   ]
  },
  {
   "cell_type": "markdown",
   "metadata": {},
   "source": [
    "Следовательно, вероятность того, что удачный выстрел произведен (pA):"
   ]
  },
  {
   "cell_type": "code",
   "execution_count": 25,
   "metadata": {},
   "outputs": [
    {
     "data": {
      "text/plain": [
       "0.7666666666666666"
      ]
     },
     "execution_count": 25,
     "metadata": {},
     "output_type": "execute_result"
    }
   ],
   "source": [
    "pA = 1/3*0.9+1/3*0.8+1/3*0.6\n",
    "pA"
   ]
  },
  {
   "cell_type": "markdown",
   "metadata": {},
   "source": [
    "Применим формулу Байеса:"
   ]
  },
  {
   "cell_type": "code",
   "execution_count": 29,
   "metadata": {},
   "outputs": [],
   "source": [
    "pB1A = pB1*pA_B1/pA\n",
    "pB2A = pB2*pA_B2/pA\n",
    "pB3A = pB3*pA_B3/pA"
   ]
  },
  {
   "cell_type": "code",
   "execution_count": 37,
   "metadata": {},
   "outputs": [
    {
     "name": "stdout",
     "output_type": "stream",
     "text": [
      "Ответ:\n",
      "\n",
      "вероятность того, что выстрел произведен: a). первым спортсменом равна 0.391304347826087\n",
      "вероятность того, что выстрел произведен: б). вторым спортсменом равна 0.3478260869565218\n",
      "вероятность того, что выстрел произведен: в). третьим спортсменом равна 0.2608695652173913\n"
     ]
    }
   ],
   "source": [
    "print('Ответ:\\n')\n",
    "print('вероятность того, что выстрел произведен: a). первым спортсменом равна', pB1A)\n",
    "print('вероятность того, что выстрел произведен: б). вторым спортсменом равна', pB2A)\n",
    "print('вероятность того, что выстрел произведен: в). третьим спортсменом равна', pB3A)"
   ]
  },
  {
   "cell_type": "markdown",
   "metadata": {},
   "source": [
    "#### 4. В университет на факультеты A и B поступило равное количество студентов, а на факультет C студентов поступило столько же, сколько на A и B вместе. Вероятность того, что студент факультета A сдаст первую сессию, равна 0.8. Для студента факультета B эта вероятность равна 0.7, а для студента факультета C - 0.9. Студент сдал первую сессию. Какова вероятность, что он учится: a). на факультете A б). на факультете B в). на факультете C?"
   ]
  },
  {
   "cell_type": "code",
   "execution_count": 39,
   "metadata": {},
   "outputs": [],
   "source": [
    "# вероятность того, что сдавший студент с факультета:\n",
    "pB1 = 1/4 # факультет А\n",
    "pB2 = 1/4 # факультет В\n",
    "pB3 = 2/4 # факультет С"
   ]
  },
  {
   "cell_type": "code",
   "execution_count": 40,
   "metadata": {},
   "outputs": [],
   "source": [
    "# вероятность того, что студент сдаст сессию, при условии что он с факультета:\n",
    "pA_B1 = 0.8 # факультет А\n",
    "pA_B2 = 0.7 # факультет B\n",
    "pA_B3 = 0.9 # факультет C"
   ]
  },
  {
   "cell_type": "code",
   "execution_count": 41,
   "metadata": {},
   "outputs": [
    {
     "data": {
      "text/plain": [
       "0.825"
      ]
     },
     "execution_count": 41,
     "metadata": {},
     "output_type": "execute_result"
    }
   ],
   "source": [
    "# вероятность того, что студент сдал сессию (pA):\n",
    "pA = 1/4*0.8+1/4*0.7+2/4*0.9\n",
    "pA"
   ]
  },
  {
   "cell_type": "code",
   "execution_count": 42,
   "metadata": {},
   "outputs": [],
   "source": [
    "# Применим формулу Байеса:\n",
    "pB1A = pB1*pA_B1/pA\n",
    "pB2A = pB2*pA_B2/pA\n",
    "pB3A = pB3*pA_B3/pA"
   ]
  },
  {
   "cell_type": "code",
   "execution_count": 43,
   "metadata": {},
   "outputs": [
    {
     "name": "stdout",
     "output_type": "stream",
     "text": [
      "Ответ:\n",
      "\n",
      "вероятность того, что студент, сдавший сессию, учится: a). на факультете A равна 0.24242424242424246\n",
      "вероятность того, что студент, сдавший сессию, учится: a). на факультете B равна 0.21212121212121213\n",
      "вероятность того, что студент, сдавший сессию, учится: a). на факультете B равна 0.5454545454545455\n"
     ]
    }
   ],
   "source": [
    "print('Ответ:\\n')\n",
    "print('вероятность того, что студент, сдавший сессию, учится: a). на факультете A равна', pB1A)\n",
    "print('вероятность того, что студент, сдавший сессию, учится: a). на факультете B равна', pB2A)\n",
    "print('вероятность того, что студент, сдавший сессию, учится: a). на факультете B равна', pB3A)"
   ]
  },
  {
   "cell_type": "markdown",
   "metadata": {},
   "source": [
    "##### 5. Устройство состоит из трех деталей. Для первой детали вероятность выйти из строя в первый месяц равна 0.1, для второй - 0.2, для третьей - 0.25. Какова вероятность того, что в первый месяц выйдут из строя: а). все детали б). только две детали в). хотя бы одна деталь г). от одной до двух деталей?"
   ]
  },
  {
   "cell_type": "markdown",
   "metadata": {},
   "source": [
    "a) совместная вероятность 3 событий - все детали выйдут из строя:"
   ]
  },
  {
   "cell_type": "code",
   "execution_count": 21,
   "metadata": {},
   "outputs": [
    {
     "data": {
      "text/plain": [
       "0.005000000000000001"
      ]
     },
     "execution_count": 21,
     "metadata": {},
     "output_type": "execute_result"
    }
   ],
   "source": [
    "P1 = 0.1*0.2*0.25\n",
    "P1"
   ]
  },
  {
   "cell_type": "markdown",
   "metadata": {},
   "source": [
    "б) только две детали"
   ]
  },
  {
   "cell_type": "code",
   "execution_count": 2,
   "metadata": {},
   "outputs": [
    {
     "data": {
      "text/plain": [
       "0.08000000000000002"
      ]
     },
     "execution_count": 2,
     "metadata": {},
     "output_type": "execute_result"
    }
   ],
   "source": [
    "# вариант 1: вышли из строя 1 и 2 деталь\n",
    "p1 = 0.1*0.2*0.75\n",
    "# вариант 2: вышли из строя 1 и 3 деталь\n",
    "p2 = 0.1*0.8*0.25\n",
    "# вариант 3: вышли из строя 2 и 3 деталь\n",
    "p3 = 0.9*0.2*0.25\n",
    "# совместная вероятность 3х возможных вариантов:\n",
    "P2=p1+p2+p3\n",
    "P2"
   ]
  },
  {
   "cell_type": "markdown",
   "metadata": {},
   "source": [
    "в) хотя бы одна деталь"
   ]
  },
  {
   "cell_type": "code",
   "execution_count": 23,
   "metadata": {},
   "outputs": [
    {
     "data": {
      "text/plain": [
       "0.45999999999999996"
      ]
     },
     "execution_count": 23,
     "metadata": {},
     "output_type": "execute_result"
    }
   ],
   "source": [
    "# посчитаем вероятность, что ни одна деталь не выйдет из строя:\n",
    "p = 0.9*0.8*0.75\n",
    "# хотя бы одна деталь - обратная величина p:\n",
    "P3 = 1 - p\n",
    "P3"
   ]
  },
  {
   "cell_type": "markdown",
   "metadata": {},
   "source": [
    "г) от одной до двух деталей"
   ]
  },
  {
   "cell_type": "code",
   "execution_count": 3,
   "metadata": {},
   "outputs": [
    {
     "data": {
      "text/plain": [
       "0.455"
      ]
     },
     "execution_count": 3,
     "metadata": {},
     "output_type": "execute_result"
    }
   ],
   "source": [
    "# это совместная вероятность выхода из строя 1 детали и 2 деталей. Посчитаем вероятность выхода из строя 1 детали:\n",
    "p = 0.1*0.8*0.75 + 0.9*0.2*0.75 + 0.9*0.8*0.25\n",
    "# вероятность выхода из строя 2х деталей мы посчитали выше (Р2). Считаем совместную вероятность 2х событий:\n",
    "P4 = p+P2\n",
    "P4"
   ]
  },
  {
   "cell_type": "code",
   "execution_count": null,
   "metadata": {},
   "outputs": [],
   "source": []
  }
 ],
 "metadata": {
  "kernelspec": {
   "display_name": "Python 3",
   "language": "python",
   "name": "python3"
  },
  "language_info": {
   "codemirror_mode": {
    "name": "ipython",
    "version": 3
   },
   "file_extension": ".py",
   "mimetype": "text/x-python",
   "name": "python",
   "nbconvert_exporter": "python",
   "pygments_lexer": "ipython3",
   "version": "3.7.3"
  }
 },
 "nbformat": 4,
 "nbformat_minor": 2
}
